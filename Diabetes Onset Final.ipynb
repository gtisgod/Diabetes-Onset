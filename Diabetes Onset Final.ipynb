{
 "cells": [
  {
   "cell_type": "code",
   "execution_count": 1,
   "id": "ead96795-32c3-4847-ae36-7630b07dd599",
   "metadata": {},
   "outputs": [],
   "source": [
    "from sklearn.impute import SimpleImputer\n",
    "import numpy as np\n",
    "import pandas as pd\n",
    "import matplotlib.pyplot as plt\n",
    "from sklearn.linear_model import LogisticRegression\n",
    "from sklearn.model_selection import train_test_split\n",
    "from sklearn.tree import DecisionTreeClassifier\n",
    "from sklearn.metrics import mean_absolute_error\n",
    "from sklearn.metrics import accuracy_score,precision_score, recall_score, f1_score, confusion_matrix\n",
    "from sklearn.ensemble import RandomForestClassifier\n",
    "from sklearn.ensemble import RandomForestRegressor\n",
    "from sklearn import tree\n",
    "import math\n",
    "from collections import Counter\n",
    "from xgboost import XGBClassifier\n",
    "from sklearn.svm import SVC\n",
    "from sklearn.preprocessing import StandardScaler\n",
    "import seaborn as sns\n",
    "from sklearn.feature_selection import RFE\n",
    "import warnings\n",
    "from sklearn.exceptions import ConvergenceWarning"
   ]
  },
  {
   "cell_type": "code",
   "execution_count": 2,
   "id": "0e0ce8cd-6edc-44c9-9219-36c70b2cdbf6",
   "metadata": {},
   "outputs": [],
   "source": [
    "filepath = r\"d:\\User\\Desktop\\GT\\jupyter\\Diabetes\\diabetes.csv\"\n",
    "\n",
    "df = pd.read_csv(filepath)"
   ]
  },
  {
   "cell_type": "code",
   "execution_count": 3,
   "id": "a7240336-b78d-4568-8d8e-a3c3a87ceb15",
   "metadata": {},
   "outputs": [
    {
     "data": {
      "text/plain": [
       "(768, 9)"
      ]
     },
     "execution_count": 3,
     "metadata": {},
     "output_type": "execute_result"
    }
   ],
   "source": [
    "df.shape"
   ]
  },
  {
   "cell_type": "code",
   "execution_count": 4,
   "id": "0f98e03b-fac3-42ed-aeff-cb4af2524ae7",
   "metadata": {},
   "outputs": [
    {
     "data": {
      "text/html": [
       "<div>\n",
       "<style scoped>\n",
       "    .dataframe tbody tr th:only-of-type {\n",
       "        vertical-align: middle;\n",
       "    }\n",
       "\n",
       "    .dataframe tbody tr th {\n",
       "        vertical-align: top;\n",
       "    }\n",
       "\n",
       "    .dataframe thead th {\n",
       "        text-align: right;\n",
       "    }\n",
       "</style>\n",
       "<table border=\"1\" class=\"dataframe\">\n",
       "  <thead>\n",
       "    <tr style=\"text-align: right;\">\n",
       "      <th></th>\n",
       "      <th>Pregnancies</th>\n",
       "      <th>Glucose</th>\n",
       "      <th>BloodPressure</th>\n",
       "      <th>SkinThickness</th>\n",
       "      <th>Insulin</th>\n",
       "      <th>BMI</th>\n",
       "      <th>DiabetesPedigreeFunction</th>\n",
       "      <th>Age</th>\n",
       "      <th>Outcome</th>\n",
       "    </tr>\n",
       "  </thead>\n",
       "  <tbody>\n",
       "    <tr>\n",
       "      <th>0</th>\n",
       "      <td>6</td>\n",
       "      <td>148</td>\n",
       "      <td>72</td>\n",
       "      <td>35</td>\n",
       "      <td>0</td>\n",
       "      <td>33.6</td>\n",
       "      <td>0.627</td>\n",
       "      <td>50</td>\n",
       "      <td>1</td>\n",
       "    </tr>\n",
       "    <tr>\n",
       "      <th>1</th>\n",
       "      <td>1</td>\n",
       "      <td>85</td>\n",
       "      <td>66</td>\n",
       "      <td>29</td>\n",
       "      <td>0</td>\n",
       "      <td>26.6</td>\n",
       "      <td>0.351</td>\n",
       "      <td>31</td>\n",
       "      <td>0</td>\n",
       "    </tr>\n",
       "    <tr>\n",
       "      <th>2</th>\n",
       "      <td>8</td>\n",
       "      <td>183</td>\n",
       "      <td>64</td>\n",
       "      <td>0</td>\n",
       "      <td>0</td>\n",
       "      <td>23.3</td>\n",
       "      <td>0.672</td>\n",
       "      <td>32</td>\n",
       "      <td>1</td>\n",
       "    </tr>\n",
       "    <tr>\n",
       "      <th>3</th>\n",
       "      <td>1</td>\n",
       "      <td>89</td>\n",
       "      <td>66</td>\n",
       "      <td>23</td>\n",
       "      <td>94</td>\n",
       "      <td>28.1</td>\n",
       "      <td>0.167</td>\n",
       "      <td>21</td>\n",
       "      <td>0</td>\n",
       "    </tr>\n",
       "    <tr>\n",
       "      <th>4</th>\n",
       "      <td>0</td>\n",
       "      <td>137</td>\n",
       "      <td>40</td>\n",
       "      <td>35</td>\n",
       "      <td>168</td>\n",
       "      <td>43.1</td>\n",
       "      <td>2.288</td>\n",
       "      <td>33</td>\n",
       "      <td>1</td>\n",
       "    </tr>\n",
       "  </tbody>\n",
       "</table>\n",
       "</div>"
      ],
      "text/plain": [
       "   Pregnancies  Glucose  BloodPressure  SkinThickness  Insulin   BMI  \\\n",
       "0            6      148             72             35        0  33.6   \n",
       "1            1       85             66             29        0  26.6   \n",
       "2            8      183             64              0        0  23.3   \n",
       "3            1       89             66             23       94  28.1   \n",
       "4            0      137             40             35      168  43.1   \n",
       "\n",
       "   DiabetesPedigreeFunction  Age  Outcome  \n",
       "0                     0.627   50        1  \n",
       "1                     0.351   31        0  \n",
       "2                     0.672   32        1  \n",
       "3                     0.167   21        0  \n",
       "4                     2.288   33        1  "
      ]
     },
     "execution_count": 4,
     "metadata": {},
     "output_type": "execute_result"
    }
   ],
   "source": [
    "df.head()"
   ]
  },
  {
   "cell_type": "code",
   "execution_count": 5,
   "id": "1c2cadb2-45fe-4f7f-970d-1c77bb84643c",
   "metadata": {},
   "outputs": [
    {
     "data": {
      "text/plain": [
       "Index(['Pregnancies', 'Glucose', 'BloodPressure', 'SkinThickness', 'Insulin',\n",
       "       'BMI', 'DiabetesPedigreeFunction', 'Age', 'Outcome'],\n",
       "      dtype='object')"
      ]
     },
     "execution_count": 5,
     "metadata": {},
     "output_type": "execute_result"
    }
   ],
   "source": [
    "df.columns"
   ]
  },
  {
   "cell_type": "code",
   "execution_count": 6,
   "id": "bd11ea8f-e5b2-4d78-9d3f-948acc42c718",
   "metadata": {},
   "outputs": [
    {
     "data": {
      "text/plain": [
       "Outcome\n",
       "0    500\n",
       "1    268\n",
       "Name: count, dtype: int64"
      ]
     },
     "execution_count": 6,
     "metadata": {},
     "output_type": "execute_result"
    }
   ],
   "source": [
    "df['Outcome'].value_counts() "
   ]
  },
  {
   "cell_type": "code",
   "execution_count": 7,
   "id": "126a86fb-ac45-45fd-b56a-d8a989d50b1b",
   "metadata": {},
   "outputs": [
    {
     "data": {
      "text/plain": [
       "Outcome\n",
       "0    0.651042\n",
       "1    0.348958\n",
       "Name: count, dtype: float64"
      ]
     },
     "execution_count": 7,
     "metadata": {},
     "output_type": "execute_result"
    }
   ],
   "source": [
    "df['Outcome'].value_counts()/float(len(df)) # Viewing percentage distribution of outcomes"
   ]
  },
  {
   "cell_type": "code",
   "execution_count": 8,
   "id": "95f209c5-d616-4d00-8fec-e52f2d04ab02",
   "metadata": {},
   "outputs": [
    {
     "name": "stdout",
     "output_type": "stream",
     "text": [
      "<class 'pandas.core.frame.DataFrame'>\n",
      "RangeIndex: 768 entries, 0 to 767\n",
      "Data columns (total 9 columns):\n",
      " #   Column                    Non-Null Count  Dtype  \n",
      "---  ------                    --------------  -----  \n",
      " 0   Pregnancies               768 non-null    int64  \n",
      " 1   Glucose                   768 non-null    int64  \n",
      " 2   BloodPressure             768 non-null    int64  \n",
      " 3   SkinThickness             768 non-null    int64  \n",
      " 4   Insulin                   768 non-null    int64  \n",
      " 5   BMI                       768 non-null    float64\n",
      " 6   DiabetesPedigreeFunction  768 non-null    float64\n",
      " 7   Age                       768 non-null    int64  \n",
      " 8   Outcome                   768 non-null    int64  \n",
      "dtypes: float64(2), int64(7)\n",
      "memory usage: 54.1 KB\n"
     ]
    }
   ],
   "source": [
    "df.info() # Summary of Dataset"
   ]
  },
  {
   "cell_type": "code",
   "execution_count": 9,
   "id": "7ed56b10-27bd-4af7-9077-a4944d8ee32d",
   "metadata": {},
   "outputs": [
    {
     "data": {
      "text/plain": [
       "Pregnancies                 0\n",
       "Glucose                     0\n",
       "BloodPressure               0\n",
       "SkinThickness               0\n",
       "Insulin                     0\n",
       "BMI                         0\n",
       "DiabetesPedigreeFunction    0\n",
       "Age                         0\n",
       "Outcome                     0\n",
       "dtype: int64"
      ]
     },
     "execution_count": 9,
     "metadata": {},
     "output_type": "execute_result"
    }
   ],
   "source": [
    "df.isnull().sum() "
   ]
  },
  {
   "cell_type": "code",
   "execution_count": 10,
   "id": "6bb074e9-d917-4aa1-87fe-3c1fb31b578e",
   "metadata": {},
   "outputs": [
    {
     "data": {
      "text/html": [
       "<div>\n",
       "<style scoped>\n",
       "    .dataframe tbody tr th:only-of-type {\n",
       "        vertical-align: middle;\n",
       "    }\n",
       "\n",
       "    .dataframe tbody tr th {\n",
       "        vertical-align: top;\n",
       "    }\n",
       "\n",
       "    .dataframe thead th {\n",
       "        text-align: right;\n",
       "    }\n",
       "</style>\n",
       "<table border=\"1\" class=\"dataframe\">\n",
       "  <thead>\n",
       "    <tr style=\"text-align: right;\">\n",
       "      <th></th>\n",
       "      <th>Pregnancies</th>\n",
       "      <th>Glucose</th>\n",
       "      <th>BloodPressure</th>\n",
       "      <th>SkinThickness</th>\n",
       "      <th>Insulin</th>\n",
       "      <th>BMI</th>\n",
       "      <th>DiabetesPedigreeFunction</th>\n",
       "      <th>Age</th>\n",
       "      <th>Outcome</th>\n",
       "    </tr>\n",
       "  </thead>\n",
       "  <tbody>\n",
       "    <tr>\n",
       "      <th>count</th>\n",
       "      <td>768.00</td>\n",
       "      <td>768.00</td>\n",
       "      <td>768.00</td>\n",
       "      <td>768.00</td>\n",
       "      <td>768.00</td>\n",
       "      <td>768.00</td>\n",
       "      <td>768.00</td>\n",
       "      <td>768.00</td>\n",
       "      <td>768.00</td>\n",
       "    </tr>\n",
       "    <tr>\n",
       "      <th>mean</th>\n",
       "      <td>3.85</td>\n",
       "      <td>120.89</td>\n",
       "      <td>69.11</td>\n",
       "      <td>20.54</td>\n",
       "      <td>79.80</td>\n",
       "      <td>31.99</td>\n",
       "      <td>0.47</td>\n",
       "      <td>33.24</td>\n",
       "      <td>0.35</td>\n",
       "    </tr>\n",
       "    <tr>\n",
       "      <th>std</th>\n",
       "      <td>3.37</td>\n",
       "      <td>31.97</td>\n",
       "      <td>19.36</td>\n",
       "      <td>15.95</td>\n",
       "      <td>115.24</td>\n",
       "      <td>7.88</td>\n",
       "      <td>0.33</td>\n",
       "      <td>11.76</td>\n",
       "      <td>0.48</td>\n",
       "    </tr>\n",
       "    <tr>\n",
       "      <th>min</th>\n",
       "      <td>0.00</td>\n",
       "      <td>0.00</td>\n",
       "      <td>0.00</td>\n",
       "      <td>0.00</td>\n",
       "      <td>0.00</td>\n",
       "      <td>0.00</td>\n",
       "      <td>0.08</td>\n",
       "      <td>21.00</td>\n",
       "      <td>0.00</td>\n",
       "    </tr>\n",
       "    <tr>\n",
       "      <th>25%</th>\n",
       "      <td>1.00</td>\n",
       "      <td>99.00</td>\n",
       "      <td>62.00</td>\n",
       "      <td>0.00</td>\n",
       "      <td>0.00</td>\n",
       "      <td>27.30</td>\n",
       "      <td>0.24</td>\n",
       "      <td>24.00</td>\n",
       "      <td>0.00</td>\n",
       "    </tr>\n",
       "    <tr>\n",
       "      <th>50%</th>\n",
       "      <td>3.00</td>\n",
       "      <td>117.00</td>\n",
       "      <td>72.00</td>\n",
       "      <td>23.00</td>\n",
       "      <td>30.50</td>\n",
       "      <td>32.00</td>\n",
       "      <td>0.37</td>\n",
       "      <td>29.00</td>\n",
       "      <td>0.00</td>\n",
       "    </tr>\n",
       "    <tr>\n",
       "      <th>75%</th>\n",
       "      <td>6.00</td>\n",
       "      <td>140.25</td>\n",
       "      <td>80.00</td>\n",
       "      <td>32.00</td>\n",
       "      <td>127.25</td>\n",
       "      <td>36.60</td>\n",
       "      <td>0.63</td>\n",
       "      <td>41.00</td>\n",
       "      <td>1.00</td>\n",
       "    </tr>\n",
       "    <tr>\n",
       "      <th>max</th>\n",
       "      <td>17.00</td>\n",
       "      <td>199.00</td>\n",
       "      <td>122.00</td>\n",
       "      <td>99.00</td>\n",
       "      <td>846.00</td>\n",
       "      <td>67.10</td>\n",
       "      <td>2.42</td>\n",
       "      <td>81.00</td>\n",
       "      <td>1.00</td>\n",
       "    </tr>\n",
       "  </tbody>\n",
       "</table>\n",
       "</div>"
      ],
      "text/plain": [
       "       Pregnancies  Glucose  BloodPressure  SkinThickness  Insulin     BMI  \\\n",
       "count       768.00   768.00         768.00         768.00   768.00  768.00   \n",
       "mean          3.85   120.89          69.11          20.54    79.80   31.99   \n",
       "std           3.37    31.97          19.36          15.95   115.24    7.88   \n",
       "min           0.00     0.00           0.00           0.00     0.00    0.00   \n",
       "25%           1.00    99.00          62.00           0.00     0.00   27.30   \n",
       "50%           3.00   117.00          72.00          23.00    30.50   32.00   \n",
       "75%           6.00   140.25          80.00          32.00   127.25   36.60   \n",
       "max          17.00   199.00         122.00          99.00   846.00   67.10   \n",
       "\n",
       "       DiabetesPedigreeFunction     Age  Outcome  \n",
       "count                    768.00  768.00   768.00  \n",
       "mean                       0.47   33.24     0.35  \n",
       "std                        0.33   11.76     0.48  \n",
       "min                        0.08   21.00     0.00  \n",
       "25%                        0.24   24.00     0.00  \n",
       "50%                        0.37   29.00     0.00  \n",
       "75%                        0.63   41.00     1.00  \n",
       "max                        2.42   81.00     1.00  "
      ]
     },
     "execution_count": 10,
     "metadata": {},
     "output_type": "execute_result"
    }
   ],
   "source": [
    "round(df.describe(),2) # Checking to see if there are outliers"
   ]
  },
  {
   "cell_type": "code",
   "execution_count": 11,
   "id": "a32c71bf-5354-4be1-9e87-47d73815f080",
   "metadata": {},
   "outputs": [
    {
     "data": {
      "text/html": [
       "<div>\n",
       "<style scoped>\n",
       "    .dataframe tbody tr th:only-of-type {\n",
       "        vertical-align: middle;\n",
       "    }\n",
       "\n",
       "    .dataframe tbody tr th {\n",
       "        vertical-align: top;\n",
       "    }\n",
       "\n",
       "    .dataframe thead th {\n",
       "        text-align: right;\n",
       "    }\n",
       "</style>\n",
       "<table border=\"1\" class=\"dataframe\">\n",
       "  <thead>\n",
       "    <tr style=\"text-align: right;\">\n",
       "      <th></th>\n",
       "      <th>Pregnancies</th>\n",
       "      <th>Glucose</th>\n",
       "      <th>BloodPressure</th>\n",
       "      <th>SkinThickness</th>\n",
       "      <th>Insulin</th>\n",
       "      <th>BMI</th>\n",
       "      <th>DiabetesPedigreeFunction</th>\n",
       "      <th>Age</th>\n",
       "      <th>Outcome</th>\n",
       "    </tr>\n",
       "  </thead>\n",
       "  <tbody>\n",
       "    <tr>\n",
       "      <th>count</th>\n",
       "      <td>768.00</td>\n",
       "      <td>768.00</td>\n",
       "      <td>768.00</td>\n",
       "      <td>768.00</td>\n",
       "      <td>768.00</td>\n",
       "      <td>768.00</td>\n",
       "      <td>768.00</td>\n",
       "      <td>768.00</td>\n",
       "      <td>768.00</td>\n",
       "    </tr>\n",
       "    <tr>\n",
       "      <th>mean</th>\n",
       "      <td>3.85</td>\n",
       "      <td>120.89</td>\n",
       "      <td>69.11</td>\n",
       "      <td>20.54</td>\n",
       "      <td>79.80</td>\n",
       "      <td>31.99</td>\n",
       "      <td>0.47</td>\n",
       "      <td>33.24</td>\n",
       "      <td>0.35</td>\n",
       "    </tr>\n",
       "    <tr>\n",
       "      <th>std</th>\n",
       "      <td>3.37</td>\n",
       "      <td>31.97</td>\n",
       "      <td>19.36</td>\n",
       "      <td>15.95</td>\n",
       "      <td>115.24</td>\n",
       "      <td>7.88</td>\n",
       "      <td>0.33</td>\n",
       "      <td>11.76</td>\n",
       "      <td>0.48</td>\n",
       "    </tr>\n",
       "    <tr>\n",
       "      <th>min</th>\n",
       "      <td>0.00</td>\n",
       "      <td>0.00</td>\n",
       "      <td>0.00</td>\n",
       "      <td>0.00</td>\n",
       "      <td>0.00</td>\n",
       "      <td>0.00</td>\n",
       "      <td>0.08</td>\n",
       "      <td>21.00</td>\n",
       "      <td>0.00</td>\n",
       "    </tr>\n",
       "    <tr>\n",
       "      <th>25%</th>\n",
       "      <td>1.00</td>\n",
       "      <td>99.00</td>\n",
       "      <td>62.00</td>\n",
       "      <td>0.00</td>\n",
       "      <td>0.00</td>\n",
       "      <td>27.30</td>\n",
       "      <td>0.24</td>\n",
       "      <td>24.00</td>\n",
       "      <td>0.00</td>\n",
       "    </tr>\n",
       "    <tr>\n",
       "      <th>50%</th>\n",
       "      <td>3.00</td>\n",
       "      <td>117.00</td>\n",
       "      <td>72.00</td>\n",
       "      <td>23.00</td>\n",
       "      <td>30.50</td>\n",
       "      <td>32.00</td>\n",
       "      <td>0.37</td>\n",
       "      <td>29.00</td>\n",
       "      <td>0.00</td>\n",
       "    </tr>\n",
       "    <tr>\n",
       "      <th>75%</th>\n",
       "      <td>6.00</td>\n",
       "      <td>140.25</td>\n",
       "      <td>80.00</td>\n",
       "      <td>32.00</td>\n",
       "      <td>127.25</td>\n",
       "      <td>36.60</td>\n",
       "      <td>0.63</td>\n",
       "      <td>41.00</td>\n",
       "      <td>1.00</td>\n",
       "    </tr>\n",
       "    <tr>\n",
       "      <th>max</th>\n",
       "      <td>17.00</td>\n",
       "      <td>199.00</td>\n",
       "      <td>122.00</td>\n",
       "      <td>99.00</td>\n",
       "      <td>846.00</td>\n",
       "      <td>67.10</td>\n",
       "      <td>2.42</td>\n",
       "      <td>81.00</td>\n",
       "      <td>1.00</td>\n",
       "    </tr>\n",
       "  </tbody>\n",
       "</table>\n",
       "</div>"
      ],
      "text/plain": [
       "       Pregnancies  Glucose  BloodPressure  SkinThickness  Insulin     BMI  \\\n",
       "count       768.00   768.00         768.00         768.00   768.00  768.00   \n",
       "mean          3.85   120.89          69.11          20.54    79.80   31.99   \n",
       "std           3.37    31.97          19.36          15.95   115.24    7.88   \n",
       "min           0.00     0.00           0.00           0.00     0.00    0.00   \n",
       "25%           1.00    99.00          62.00           0.00     0.00   27.30   \n",
       "50%           3.00   117.00          72.00          23.00    30.50   32.00   \n",
       "75%           6.00   140.25          80.00          32.00   127.25   36.60   \n",
       "max          17.00   199.00         122.00          99.00   846.00   67.10   \n",
       "\n",
       "       DiabetesPedigreeFunction     Age  Outcome  \n",
       "count                    768.00  768.00   768.00  \n",
       "mean                       0.47   33.24     0.35  \n",
       "std                        0.33   11.76     0.48  \n",
       "min                        0.08   21.00     0.00  \n",
       "25%                        0.24   24.00     0.00  \n",
       "50%                        0.37   29.00     0.00  \n",
       "75%                        0.63   41.00     1.00  \n",
       "max                        2.42   81.00     1.00  "
      ]
     },
     "execution_count": 11,
     "metadata": {},
     "output_type": "execute_result"
    }
   ],
   "source": [
    "round(df.describe(),2)"
   ]
  },
  {
   "cell_type": "code",
   "execution_count": 12,
   "id": "266a0e99-7b11-4c3a-99f6-f6ffc08cfb4b",
   "metadata": {},
   "outputs": [
    {
     "data": {
      "image/png": "[encoded data removed]",
      "text/plain": [
       "<Figure size 1000x800 with 2 Axes>"
      ]
     },
     "metadata": {},
     "output_type": "display_data"
    }
   ],
   "source": [
    "corr = df.corr()\n",
    "plt.figure(figsize=(10,8))\n",
    "sns.heatmap(corr, annot=True, cmap='coolwarm')\n",
    "plt.show()"
   ]
  },
  {
   "cell_type": "code",
   "execution_count": 13,
   "id": "c8b2447e-f466-48ad-9cb3-8d6fdfe21bf1",
   "metadata": {},
   "outputs": [
    {
     "data": {
      "text/plain": [
       "0      1\n",
       "1      0\n",
       "2      1\n",
       "3      0\n",
       "4      1\n",
       "      ..\n",
       "763    0\n",
       "764    0\n",
       "765    0\n",
       "766    1\n",
       "767    0\n",
       "Name: Outcome, Length: 768, dtype: int64"
      ]
     },
     "execution_count": 13,
     "metadata": {},
     "output_type": "execute_result"
    }
   ],
   "source": [
    "y = df['Outcome']\n",
    "y"
   ]
  },
  {
   "cell_type": "code",
   "execution_count": 14,
   "id": "414aa644-372f-4a13-bf2d-217fedc68ee9",
   "metadata": {},
   "outputs": [
    {
     "data": {
      "text/html": [
       "<div>\n",
       "<style scoped>\n",
       "    .dataframe tbody tr th:only-of-type {\n",
       "        vertical-align: middle;\n",
       "    }\n",
       "\n",
       "    .dataframe tbody tr th {\n",
       "        vertical-align: top;\n",
       "    }\n",
       "\n",
       "    .dataframe thead th {\n",
       "        text-align: right;\n",
       "    }\n",
       "</style>\n",
       "<table border=\"1\" class=\"dataframe\">\n",
       "  <thead>\n",
       "    <tr style=\"text-align: right;\">\n",
       "      <th></th>\n",
       "      <th>Pregnancies</th>\n",
       "      <th>Glucose</th>\n",
       "      <th>BloodPressure</th>\n",
       "      <th>SkinThickness</th>\n",
       "      <th>Insulin</th>\n",
       "      <th>BMI</th>\n",
       "      <th>DiabetesPedigreeFunction</th>\n",
       "      <th>Age</th>\n",
       "    </tr>\n",
       "  </thead>\n",
       "  <tbody>\n",
       "    <tr>\n",
       "      <th>0</th>\n",
       "      <td>6</td>\n",
       "      <td>148</td>\n",
       "      <td>72</td>\n",
       "      <td>35</td>\n",
       "      <td>0</td>\n",
       "      <td>33.6</td>\n",
       "      <td>0.627</td>\n",
       "      <td>50</td>\n",
       "    </tr>\n",
       "    <tr>\n",
       "      <th>1</th>\n",
       "      <td>1</td>\n",
       "      <td>85</td>\n",
       "      <td>66</td>\n",
       "      <td>29</td>\n",
       "      <td>0</td>\n",
       "      <td>26.6</td>\n",
       "      <td>0.351</td>\n",
       "      <td>31</td>\n",
       "    </tr>\n",
       "    <tr>\n",
       "      <th>2</th>\n",
       "      <td>8</td>\n",
       "      <td>183</td>\n",
       "      <td>64</td>\n",
       "      <td>0</td>\n",
       "      <td>0</td>\n",
       "      <td>23.3</td>\n",
       "      <td>0.672</td>\n",
       "      <td>32</td>\n",
       "    </tr>\n",
       "    <tr>\n",
       "      <th>3</th>\n",
       "      <td>1</td>\n",
       "      <td>89</td>\n",
       "      <td>66</td>\n",
       "      <td>23</td>\n",
       "      <td>94</td>\n",
       "      <td>28.1</td>\n",
       "      <td>0.167</td>\n",
       "      <td>21</td>\n",
       "    </tr>\n",
       "    <tr>\n",
       "      <th>4</th>\n",
       "      <td>0</td>\n",
       "      <td>137</td>\n",
       "      <td>40</td>\n",
       "      <td>35</td>\n",
       "      <td>168</td>\n",
       "      <td>43.1</td>\n",
       "      <td>2.288</td>\n",
       "      <td>33</td>\n",
       "    </tr>\n",
       "    <tr>\n",
       "      <th>...</th>\n",
       "      <td>...</td>\n",
       "      <td>...</td>\n",
       "      <td>...</td>\n",
       "      <td>...</td>\n",
       "      <td>...</td>\n",
       "      <td>...</td>\n",
       "      <td>...</td>\n",
       "      <td>...</td>\n",
       "    </tr>\n",
       "    <tr>\n",
       "      <th>763</th>\n",
       "      <td>10</td>\n",
       "      <td>101</td>\n",
       "      <td>76</td>\n",
       "      <td>48</td>\n",
       "      <td>180</td>\n",
       "      <td>32.9</td>\n",
       "      <td>0.171</td>\n",
       "      <td>63</td>\n",
       "    </tr>\n",
       "    <tr>\n",
       "      <th>764</th>\n",
       "      <td>2</td>\n",
       "      <td>122</td>\n",
       "      <td>70</td>\n",
       "      <td>27</td>\n",
       "      <td>0</td>\n",
       "      <td>36.8</td>\n",
       "      <td>0.340</td>\n",
       "      <td>27</td>\n",
       "    </tr>\n",
       "    <tr>\n",
       "      <th>765</th>\n",
       "      <td>5</td>\n",
       "      <td>121</td>\n",
       "      <td>72</td>\n",
       "      <td>23</td>\n",
       "      <td>112</td>\n",
       "      <td>26.2</td>\n",
       "      <td>0.245</td>\n",
       "      <td>30</td>\n",
       "    </tr>\n",
       "    <tr>\n",
       "      <th>766</th>\n",
       "      <td>1</td>\n",
       "      <td>126</td>\n",
       "      <td>60</td>\n",
       "      <td>0</td>\n",
       "      <td>0</td>\n",
       "      <td>30.1</td>\n",
       "      <td>0.349</td>\n",
       "      <td>47</td>\n",
       "    </tr>\n",
       "    <tr>\n",
       "      <th>767</th>\n",
       "      <td>1</td>\n",
       "      <td>93</td>\n",
       "      <td>70</td>\n",
       "      <td>31</td>\n",
       "      <td>0</td>\n",
       "      <td>30.4</td>\n",
       "      <td>0.315</td>\n",
       "      <td>23</td>\n",
       "    </tr>\n",
       "  </tbody>\n",
       "</table>\n",
       "<p>768 rows × 8 columns</p>\n",
       "</div>"
      ],
      "text/plain": [
       "     Pregnancies  Glucose  BloodPressure  SkinThickness  Insulin   BMI  \\\n",
       "0              6      148             72             35        0  33.6   \n",
       "1              1       85             66             29        0  26.6   \n",
       "2              8      183             64              0        0  23.3   \n",
       "3              1       89             66             23       94  28.1   \n",
       "4              0      137             40             35      168  43.1   \n",
       "..           ...      ...            ...            ...      ...   ...   \n",
       "763           10      101             76             48      180  32.9   \n",
       "764            2      122             70             27        0  36.8   \n",
       "765            5      121             72             23      112  26.2   \n",
       "766            1      126             60              0        0  30.1   \n",
       "767            1       93             70             31        0  30.4   \n",
       "\n",
       "     DiabetesPedigreeFunction  Age  \n",
       "0                       0.627   50  \n",
       "1                       0.351   31  \n",
       "2                       0.672   32  \n",
       "3                       0.167   21  \n",
       "4                       2.288   33  \n",
       "..                        ...  ...  \n",
       "763                     0.171   63  \n",
       "764                     0.340   27  \n",
       "765                     0.245   30  \n",
       "766                     0.349   47  \n",
       "767                     0.315   23  \n",
       "\n",
       "[768 rows x 8 columns]"
      ]
     },
     "execution_count": 14,
     "metadata": {},
     "output_type": "execute_result"
    }
   ],
   "source": [
    "X = df.drop(columns='Outcome')\n",
    "X"
   ]
  },
  {
   "cell_type": "code",
   "execution_count": 15,
   "id": "8c4efc01-a032-4af5-a9a7-0ecc274548f3",
   "metadata": {},
   "outputs": [],
   "source": [
    "X_train, X_test, y_train, y_test = train_test_split(X, y, random_state = 0)"
   ]
  },
  {
   "cell_type": "code",
   "execution_count": 16,
   "id": "902ff05c-5d91-4e4a-853f-c7bf125ff5e8",
   "metadata": {},
   "outputs": [
    {
     "data": {
      "text/html": [
       "<div>\n",
       "<style scoped>\n",
       "    .dataframe tbody tr th:only-of-type {\n",
       "        vertical-align: middle;\n",
       "    }\n",
       "\n",
       "    .dataframe tbody tr th {\n",
       "        vertical-align: top;\n",
       "    }\n",
       "\n",
       "    .dataframe thead th {\n",
       "        text-align: right;\n",
       "    }\n",
       "</style>\n",
       "<table border=\"1\" class=\"dataframe\">\n",
       "  <thead>\n",
       "    <tr style=\"text-align: right;\">\n",
       "      <th></th>\n",
       "      <th>Pregnancies</th>\n",
       "      <th>Glucose</th>\n",
       "      <th>BloodPressure</th>\n",
       "      <th>SkinThickness</th>\n",
       "      <th>Insulin</th>\n",
       "      <th>BMI</th>\n",
       "      <th>DiabetesPedigreeFunction</th>\n",
       "      <th>Age</th>\n",
       "    </tr>\n",
       "  </thead>\n",
       "  <tbody>\n",
       "    <tr>\n",
       "      <th>762</th>\n",
       "      <td>9</td>\n",
       "      <td>89</td>\n",
       "      <td>62</td>\n",
       "      <td>0</td>\n",
       "      <td>0</td>\n",
       "      <td>22.5</td>\n",
       "      <td>0.142</td>\n",
       "      <td>33</td>\n",
       "    </tr>\n",
       "    <tr>\n",
       "      <th>127</th>\n",
       "      <td>1</td>\n",
       "      <td>118</td>\n",
       "      <td>58</td>\n",
       "      <td>36</td>\n",
       "      <td>94</td>\n",
       "      <td>33.3</td>\n",
       "      <td>0.261</td>\n",
       "      <td>23</td>\n",
       "    </tr>\n",
       "    <tr>\n",
       "      <th>564</th>\n",
       "      <td>0</td>\n",
       "      <td>91</td>\n",
       "      <td>80</td>\n",
       "      <td>0</td>\n",
       "      <td>0</td>\n",
       "      <td>32.4</td>\n",
       "      <td>0.601</td>\n",
       "      <td>27</td>\n",
       "    </tr>\n",
       "    <tr>\n",
       "      <th>375</th>\n",
       "      <td>12</td>\n",
       "      <td>140</td>\n",
       "      <td>82</td>\n",
       "      <td>43</td>\n",
       "      <td>325</td>\n",
       "      <td>39.2</td>\n",
       "      <td>0.528</td>\n",
       "      <td>58</td>\n",
       "    </tr>\n",
       "    <tr>\n",
       "      <th>663</th>\n",
       "      <td>9</td>\n",
       "      <td>145</td>\n",
       "      <td>80</td>\n",
       "      <td>46</td>\n",
       "      <td>130</td>\n",
       "      <td>37.9</td>\n",
       "      <td>0.637</td>\n",
       "      <td>40</td>\n",
       "    </tr>\n",
       "    <tr>\n",
       "      <th>...</th>\n",
       "      <td>...</td>\n",
       "      <td>...</td>\n",
       "      <td>...</td>\n",
       "      <td>...</td>\n",
       "      <td>...</td>\n",
       "      <td>...</td>\n",
       "      <td>...</td>\n",
       "      <td>...</td>\n",
       "    </tr>\n",
       "    <tr>\n",
       "      <th>763</th>\n",
       "      <td>10</td>\n",
       "      <td>101</td>\n",
       "      <td>76</td>\n",
       "      <td>48</td>\n",
       "      <td>180</td>\n",
       "      <td>32.9</td>\n",
       "      <td>0.171</td>\n",
       "      <td>63</td>\n",
       "    </tr>\n",
       "    <tr>\n",
       "      <th>192</th>\n",
       "      <td>7</td>\n",
       "      <td>159</td>\n",
       "      <td>66</td>\n",
       "      <td>0</td>\n",
       "      <td>0</td>\n",
       "      <td>30.4</td>\n",
       "      <td>0.383</td>\n",
       "      <td>36</td>\n",
       "    </tr>\n",
       "    <tr>\n",
       "      <th>629</th>\n",
       "      <td>4</td>\n",
       "      <td>94</td>\n",
       "      <td>65</td>\n",
       "      <td>22</td>\n",
       "      <td>0</td>\n",
       "      <td>24.7</td>\n",
       "      <td>0.148</td>\n",
       "      <td>21</td>\n",
       "    </tr>\n",
       "    <tr>\n",
       "      <th>559</th>\n",
       "      <td>11</td>\n",
       "      <td>85</td>\n",
       "      <td>74</td>\n",
       "      <td>0</td>\n",
       "      <td>0</td>\n",
       "      <td>30.1</td>\n",
       "      <td>0.300</td>\n",
       "      <td>35</td>\n",
       "    </tr>\n",
       "    <tr>\n",
       "      <th>684</th>\n",
       "      <td>5</td>\n",
       "      <td>136</td>\n",
       "      <td>82</td>\n",
       "      <td>0</td>\n",
       "      <td>0</td>\n",
       "      <td>0.0</td>\n",
       "      <td>0.640</td>\n",
       "      <td>69</td>\n",
       "    </tr>\n",
       "  </tbody>\n",
       "</table>\n",
       "<p>576 rows × 8 columns</p>\n",
       "</div>"
      ],
      "text/plain": [
       "     Pregnancies  Glucose  BloodPressure  SkinThickness  Insulin   BMI  \\\n",
       "762            9       89             62              0        0  22.5   \n",
       "127            1      118             58             36       94  33.3   \n",
       "564            0       91             80              0        0  32.4   \n",
       "375           12      140             82             43      325  39.2   \n",
       "663            9      145             80             46      130  37.9   \n",
       "..           ...      ...            ...            ...      ...   ...   \n",
       "763           10      101             76             48      180  32.9   \n",
       "192            7      159             66              0        0  30.4   \n",
       "629            4       94             65             22        0  24.7   \n",
       "559           11       85             74              0        0  30.1   \n",
       "684            5      136             82              0        0   0.0   \n",
       "\n",
       "     DiabetesPedigreeFunction  Age  \n",
       "762                     0.142   33  \n",
       "127                     0.261   23  \n",
       "564                     0.601   27  \n",
       "375                     0.528   58  \n",
       "663                     0.637   40  \n",
       "..                        ...  ...  \n",
       "763                     0.171   63  \n",
       "192                     0.383   36  \n",
       "629                     0.148   21  \n",
       "559                     0.300   35  \n",
       "684                     0.640   69  \n",
       "\n",
       "[576 rows x 8 columns]"
      ]
     },
     "execution_count": 16,
     "metadata": {},
     "output_type": "execute_result"
    }
   ],
   "source": [
    "X_train"
   ]
  },
  {
   "cell_type": "code",
   "execution_count": 17,
   "id": "55991e20-fdc3-4a94-b551-e5477c939fb3",
   "metadata": {},
   "outputs": [],
   "source": [
    "scaler = StandardScaler()\n",
    "scaler.fit(X_train)\n",
    "\n",
    "X_train = scaler.transform(X_train)\n",
    "X_test = scaler.transform(X_test)"
   ]
  },
  {
   "cell_type": "markdown",
   "id": "64c896c7-0d1f-47dc-ae32-6377456a6c01",
   "metadata": {},
   "source": [
    "# Logistic Regression\n",
    "\n",
    "**Scratch**"
   ]
  },
  {
   "cell_type": "code",
   "execution_count": 18,
   "id": "a2d1b61c-38cb-462b-9d12-58298b820a2c",
   "metadata": {},
   "outputs": [],
   "source": [
    "def logisregress(x,y,w,b,lr,iterations):\n",
    "    m,n=x.shape\n",
    "    cost=[]\n",
    "    for i in range(iterations):\n",
    "        z=np.dot(x,w)+b\n",
    "        fx = 1/(1 + np.exp(-z))\n",
    "        loss = -np.mean(y*np.log(fx) + (1-y)*np.log(1-fx))\n",
    "        dw = np.dot(x.T,(fx-y))/m\n",
    "        db = np.mean(fx-y)\n",
    "        w = w - lr*dw\n",
    "        b = b - lr*db\n",
    "        cos = cost_calc(x,y,w,b,fx)\n",
    "        cost.append(cos)\n",
    "    fx = (fx>=0.5).astype(int)\n",
    "    return w,b,cost,fx"
   ]
  },
  {
   "cell_type": "code",
   "execution_count": 19,
   "id": "806579b3-f85b-45b5-a4ef-0b1b8f77c656",
   "metadata": {},
   "outputs": [],
   "source": [
    "def cost_calc(x,y,w,b,fx):\n",
    "    cost = -np.mean(y*np.log(fx) + (1-y)*np.log(1-fx))\n",
    "    return cost"
   ]
  },
  {
   "cell_type": "code",
   "execution_count": 20,
   "id": "65b13ec2-fae5-4505-9b1a-8b502bb52d3f",
   "metadata": {},
   "outputs": [
    {
     "name": "stdout",
     "output_type": "stream",
     "text": [
      "Weight calculated: [ 0.27241486  0.96788409 -0.17302799  0.07514828 -0.06884267  0.6482723\n",
      "  0.27925398  0.27533744]\n",
      "Bias calculated: -0.7718968821152647\n"
     ]
    },
    {
     "data": {
      "image/png": "[encoded data removed]",
      "text/plain": [
       "<Figure size 640x480 with 1 Axes>"
      ]
     },
     "metadata": {},
     "output_type": "display_data"
    },
    {
     "name": "stdout",
     "output_type": "stream",
     "text": [
      "Accuracy: 0.8125\n",
      "Precision: 0.7954545454545454\n",
      "Recall: 0.5645161290322581\n",
      "F1 Score: 0.660377358490566\n",
      "Confusion Matrix: \n",
      " [[121   9]\n",
      " [ 27  35]]\n"
     ]
    }
   ],
   "source": [
    "def main():\n",
    "    lr = 0.001\n",
    "    iterations = 25000\n",
    "    \n",
    "    w = np.zeros(X_train.shape[1])\n",
    "    b = 0\n",
    "\n",
    "    w, b, cost, train_preds = logisregress(X_train, y_train, w, b, lr, iterations)\n",
    "\n",
    "    print(f\"Weight calculated: {w}\")\n",
    "    print(f\"Bias calculated: {b}\")\n",
    "    \n",
    "    plt.plot(range(iterations),cost)\n",
    "    plt.xlabel(\"Iterations\")\n",
    "    plt.ylabel(\"Cost\")\n",
    "    plt.show()\n",
    "\n",
    "    z_test = np.dot(X_test, w) + b\n",
    "    fx_test = 1 / (1 + np.exp(-z_test))\n",
    "    y_pred_test = (fx_test >= 0.55).astype(int)\n",
    "\n",
    "    print(\"Accuracy:\", accuracy_score(y_test, y_pred_test))\n",
    "    print(\"Precision:\", precision_score(y_test, y_pred_test))\n",
    "    print(\"Recall:\", recall_score(y_test, y_pred_test))\n",
    "    print(\"F1 Score:\", f1_score(y_test, y_pred_test))\n",
    "    print(\"Confusion Matrix: \\n\", confusion_matrix(y_test, y_pred_test))\n",
    "    \n",
    "main()"
   ]
  },
  {
   "cell_type": "markdown",
   "id": "efb084e2-48d7-4c74-a074-d00edf1ccd1b",
   "metadata": {},
   "source": [
    "**Scikit Learn**"
   ]
  },
  {
   "cell_type": "code",
   "execution_count": 21,
   "id": "d71211a8-c3a3-4bca-8310-ec433dc88f50",
   "metadata": {},
   "outputs": [],
   "source": [
    "def calcu1(i):\n",
    "    model = LogisticRegression(max_iter=i)\n",
    "    model.fit(X_train, y_train)\n",
    "    y_pred = model.predict(X_test)\n",
    "    \n",
    "    accuracy = accuracy_score(y_test, y_pred)\n",
    "    precision = precision_score(y_test, y_pred)\n",
    "    recall = recall_score(y_test, y_pred)\n",
    "    f1 = f1_score(y_test, y_pred)\n",
    "    \n",
    "    results.append({\n",
    "        'max_iter': i,\n",
    "        'accuracy': accuracy,\n",
    "        'precision': precision,\n",
    "        'recall': recall,\n",
    "        'f1_score': f1,\n",
    "        'y_pred': y_pred \n",
    "    })"
   ]
  },
  {
   "cell_type": "code",
   "execution_count": 22,
   "id": "175fdd5c-fcbc-4670-bd59-897b41725382",
   "metadata": {},
   "outputs": [
    {
     "name": "stdout",
     "output_type": "stream",
     "text": [
      "Best result at max_iter = 3\n",
      "Accuracy: 0.8020833333333334\n",
      "Precision: 0.75\n",
      "Recall: 0.5806451612903226\n",
      "F1 Score: 0.6545454545454545\n",
      "Confusion Matrix:\n",
      " [[118  12]\n",
      " [ 26  36]]\n"
     ]
    }
   ],
   "source": [
    "warnings.filterwarnings(\"ignore\", category=ConvergenceWarning)\n",
    "results = []\n",
    "\n",
    "iter_values = [1,2,3,4,5,10,15,20,25,30,35,40,45,50,60,70,80,90,100,\n",
    "               150,200,250,300,350,400,500,600,700,800,900,1000]\n",
    "\n",
    "for j in iter_values:\n",
    "    calcu1(j)\n",
    "\n",
    "best_result = max(results, key=lambda x: x['accuracy'])\n",
    "\n",
    "print(f\"Best result at max_iter = {best_result['max_iter']}\")\n",
    "print(\"Accuracy:\", best_result['accuracy'])\n",
    "print(\"Precision:\", best_result['precision'])\n",
    "print(\"Recall:\", best_result['recall'])\n",
    "print(\"F1 Score:\", best_result['f1_score'])\n",
    "print(\"Confusion Matrix:\\n\", confusion_matrix(y_test, best_result['y_pred']))\n"
   ]
  },
  {
   "cell_type": "markdown",
   "id": "1a036459-0116-4080-bc2b-e94f12f18a07",
   "metadata": {},
   "source": [
    "**Logistic Regression Visualization**"
   ]
  },
  {
   "cell_type": "code",
   "execution_count": 23,
   "id": "cc29710f-4fea-492c-828a-cdc19343c8ad",
   "metadata": {},
   "outputs": [
    {
     "data": {
      "image/png": "[encoded data removed]",
      "text/plain": [
       "<Figure size 1200x600 with 1 Axes>"
      ]
     },
     "metadata": {},
     "output_type": "display_data"
    }
   ],
   "source": [
    "iterations = [r['max_iter'] for r in results]\n",
    "accuracies = [r['accuracy'] for r in results]\n",
    "precisions = [r['precision'] for r in results]\n",
    "recalls = [r['recall'] for r in results]\n",
    "\n",
    "plt.figure(figsize=(12, 6))\n",
    "plt.plot(iterations, accuracies, marker='o', label='Accuracy', color='b')\n",
    "plt.plot(iterations, precisions, marker='s', label='Precision', color='g')\n",
    "plt.plot(iterations, recalls, marker='^', label='Recall', color='r')\n",
    "plt.title('Evaluation Metrics vs Number of Iterations')\n",
    "plt.xlabel('Number of Iterations')\n",
    "plt.ylabel('Score')\n",
    "plt.legend()\n",
    "plt.grid(True)\n",
    "plt.show()"
   ]
  },
  {
   "cell_type": "markdown",
   "id": "cb56d839-753a-4231-a56a-15eb73f3789a",
   "metadata": {},
   "source": [
    "# Decision trees\n",
    "\n",
    "**Scratch**"
   ]
  },
  {
   "cell_type": "code",
   "execution_count": 24,
   "id": "afb62080-c13c-44dc-bfc5-995cb64c0fd6",
   "metadata": {},
   "outputs": [],
   "source": [
    "def entropy(y):\n",
    "    counts = Counter(y)\n",
    "    total = len(y)\n",
    "    ent = 0\n",
    "    for label in counts:\n",
    "        p = counts[label] / total\n",
    "        ent -= p * math.log2(p)\n",
    "    return ent\n",
    "\n",
    "def information_gain(parent_y, left_y, right_y):\n",
    "    p = len(left_y) / len(parent_y)\n",
    "    return entropy(parent_y) - (p * entropy(left_y) + (1 - p) * entropy(right_y))"
   ]
  },
  {
   "cell_type": "code",
   "execution_count": 25,
   "id": "93cf72e2-5b17-4153-9f7a-cc02b8945f00",
   "metadata": {},
   "outputs": [],
   "source": [
    "def best_split(X, y):\n",
    "    best_gain = -float('inf')\n",
    "    best_feature = None\n",
    "    best_threshold = None\n",
    "\n",
    "    n_features = len(X[0])\n",
    "\n",
    "    for feature_idx in range(n_features):\n",
    "        values = sorted(set([x[feature_idx] for x in X]))\n",
    "        if len(values) < 2:\n",
    "            continue\n",
    "        thresholds = [(values[i] + values[i+1]) / 2 for i in range(len(values) - 1)]\n",
    "\n",
    "        for t in thresholds:\n",
    "            left_y = [y[i] for i in range(len(X)) if X[i][feature_idx] <= t]\n",
    "            right_y = [y[i] for i in range(len(X)) if X[i][feature_idx] > t]\n",
    "\n",
    "            if not left_y or not right_y:\n",
    "                continue\n",
    "\n",
    "            gain = information_gain(y, left_y, right_y)\n",
    "            if gain > best_gain:\n",
    "                best_gain = gain\n",
    "                best_feature = feature_idx\n",
    "                best_threshold = t\n",
    "\n",
    "    return best_feature, best_threshold\n"
   ]
  },
  {
   "cell_type": "code",
   "execution_count": 26,
   "id": "a615b19c-7264-45ef-bc6d-3176f98d5481",
   "metadata": {},
   "outputs": [],
   "source": [
    "class Node:\n",
    "    def __init__(self, feature=None, threshold=None, left=None, right=None, value=None):\n",
    "        self.feature = feature          \n",
    "        self.threshold = threshold      \n",
    "        self.left = left                \n",
    "        self.right = right              \n",
    "        self.value = value              \n",
    "\n",
    "    def is_leaf(self):\n",
    "        return self.value is not None"
   ]
  },
  {
   "cell_type": "code",
   "execution_count": 27,
   "id": "9bacc4d3-4b7e-4822-b359-511df56bd8b7",
   "metadata": {},
   "outputs": [],
   "source": [
    "def build_tree(X, y, depth=0, max_depth=5):\n",
    "    if len(set(y)) == 1:\n",
    "        return Node(value=y[0])\n",
    "\n",
    "    if depth >= max_depth or len(X) == 0:\n",
    "        majority = Counter(y).most_common(1)[0][0]\n",
    "        return Node(value=majority)\n",
    "\n",
    "    best_feature, threshold = best_split(X, y)\n",
    "    if threshold is None or best_feature is None:\n",
    "        majority = Counter(y).most_common(1)[0][0]\n",
    "        return Node(value=majority)\n",
    "\n",
    "    left_idx = [i for i in range(len(X)) if X[i][best_feature] <= threshold]\n",
    "    right_idx = [i for i in range(len(X)) if X[i][best_feature] > threshold]\n",
    "\n",
    "    left_X = [X[i] for i in left_idx]\n",
    "    right_X = [X[i] for i in right_idx]\n",
    "    left_y = [y[i] for i in left_idx]\n",
    "    right_y = [y[i] for i in right_idx]\n",
    "\n",
    "    left_node = build_tree(left_X, left_y, depth + 1, max_depth)\n",
    "    right_node = build_tree(right_X, right_y, depth + 1, max_depth)\n",
    "\n",
    "    return Node(feature=best_feature, threshold=threshold, left=left_node, right=right_node)\n"
   ]
  },
  {
   "cell_type": "code",
   "execution_count": 28,
   "id": "52f1bf34-11ce-44da-92d6-b35f841a7806",
   "metadata": {},
   "outputs": [],
   "source": [
    "def predict(node, x):\n",
    "    if node.is_leaf():\n",
    "        return node.value\n",
    "    if x[node.feature] <= node.threshold:\n",
    "        return predict(node.left, x)\n",
    "    else:\n",
    "        return predict(node.right, x)"
   ]
  },
  {
   "cell_type": "code",
   "execution_count": 29,
   "id": "d88f6aa7-c644-469e-977c-b7713460d2f7",
   "metadata": {},
   "outputs": [],
   "source": [
    "def get_mae(max_leaf,trainx,trainy,testx,testy):\n",
    "    model1 = DecisionTreeRegressor(max_leaf_nodes=max_leaf,random_state=0)\n",
    "    model1.fit(trainx,trainy)\n",
    "    predict = model1.predict(testx)\n",
    "    mae = mean_absolute_error(testy,predict)\n",
    "    return mae"
   ]
  },
  {
   "cell_type": "code",
   "execution_count": 30,
   "id": "0852d1e7-6c30-45f9-9ce3-e2cd4c29e09a",
   "metadata": {},
   "outputs": [
    {
     "name": "stdout",
     "output_type": "stream",
     "text": [
      "Scratch Evaluation matrices: \n",
      "Accuracy: 0.7857142857142857\n",
      "Precision: 0.7037037037037037\n",
      "Recall: 0.6909090909090909\n",
      "F1 Score: 0.6972477064220184\n",
      "Confusion Matrix: \n",
      " [[83 16]\n",
      " [17 38]]\n"
     ]
    }
   ],
   "source": [
    "X1 = np.array(X)\n",
    "y1 = np.array(y)\n",
    "\n",
    "X1_train, X1_test, y1_train, y1_test = train_test_split(X1, y1, test_size=0.2, random_state=42)\n",
    "\n",
    "tree2 = build_tree(X1_train,y1_train,max_depth=5)\n",
    "\n",
    "y_pred_test = [predict(tree2, x) for x in X1_test]\n",
    "y_pred_test2 = [predict(tree2, x) for x in X1_train]\n",
    "\n",
    "print(\"Scratch Evaluation matrices: \")\n",
    "print(\"Accuracy:\", accuracy_score(y1_test, y_pred_test))\n",
    "print(\"Precision:\", precision_score(y1_test, y_pred_test))\n",
    "print(\"Recall:\", recall_score(y1_test, y_pred_test))\n",
    "print(\"F1 Score:\", f1_score(y1_test, y_pred_test))\n",
    "print(\"Confusion Matrix: \\n\", confusion_matrix(y1_test, y_pred_test))"
   ]
  },
  {
   "cell_type": "markdown",
   "id": "7f459a9f-be9e-4d96-ad4a-6eb36250db29",
   "metadata": {},
   "source": [
    "**Decision Tree Scikit-learn**"
   ]
  },
  {
   "cell_type": "code",
   "execution_count": 31,
   "id": "8a78458f-251e-46df-925c-69daf7f9d945",
   "metadata": {},
   "outputs": [],
   "source": [
    "def calcu2(i):\n",
    "    model = DecisionTreeClassifier(max_depth=i)\n",
    "    model.fit(X_train, y_train)\n",
    "    y_pred = model.predict(X_test)\n",
    "    \n",
    "    accuracy = accuracy_score(y_test, y_pred)\n",
    "    precision = precision_score(y_test, y_pred)\n",
    "    recall = recall_score(y_test, y_pred)\n",
    "    \n",
    "    results.append({\n",
    "        'max_depth': i,\n",
    "        'accuracy': accuracy,\n",
    "        'precision': precision,\n",
    "        'recall': recall,\n",
    "        'y_pred': y_pred \n",
    "    })"
   ]
  },
  {
   "cell_type": "code",
   "execution_count": 32,
   "id": "70818479-29b6-4f5e-972e-01f8d310c263",
   "metadata": {},
   "outputs": [
    {
     "name": "stdout",
     "output_type": "stream",
     "text": [
      "Scikit-Learn:\n",
      "Best result at max_depth = 5\n",
      "Accuracy: 0.78125\n",
      "Precision: 0.6923076923076923\n",
      "Recall: 0.5806451612903226\n",
      "Confusion Matrix:\n",
      " [[114  16]\n",
      " [ 26  36]]\n"
     ]
    }
   ],
   "source": [
    "warnings.filterwarnings(\"ignore\", category=ConvergenceWarning)\n",
    "results = []\n",
    "\n",
    "iter_values = [1,2,3,4,5,10,15,20,25,30,35,40,45,50,60,70,80,90,100,\n",
    "               150,200,250,300,350,400,500,600,700,800,900,1000]\n",
    "\n",
    "for j in iter_values:\n",
    "    calcu2(j)\n",
    "\n",
    "best_result = max(results, key=lambda x: x['accuracy'])\n",
    "print(\"Scikit-Learn:\")\n",
    "print(f\"Best result at max_depth = {best_result['max_depth']}\")\n",
    "print(\"Accuracy:\", best_result['accuracy'])\n",
    "print(\"Precision:\", best_result['precision'])\n",
    "print(\"Recall:\", best_result['recall'])\n",
    "print(\"Confusion Matrix:\\n\", confusion_matrix(y_test, best_result['y_pred']))"
   ]
  },
  {
   "cell_type": "code",
   "execution_count": 33,
   "id": "4e28adf3-4071-4121-af87-e046b97d59b6",
   "metadata": {},
   "outputs": [
    {
     "data": {
      "image/png": "[encoded data removed]",
      "text/plain": [
       "<Figure size 1200x600 with 1 Axes>"
      ]
     },
     "metadata": {},
     "output_type": "display_data"
    }
   ],
   "source": [
    "iterations = [r['max_depth'] for r in results]\n",
    "accuracies = [r['accuracy'] for r in results]\n",
    "precisions = [r['precision'] for r in results]\n",
    "recalls = [r['recall'] for r in results]\n",
    "\n",
    "plt.figure(figsize=(12, 6))\n",
    "plt.plot(iterations, accuracies, marker='o', label='Accuracy', color='b')\n",
    "plt.plot(iterations, precisions, marker='s', label='Precision', color='g')\n",
    "plt.plot(iterations, recalls, marker='^', label='Recall', color='r')\n",
    "plt.title('Evaluation Metrics vs Number of Iterations')\n",
    "plt.xlabel('Number of Iterations')\n",
    "plt.ylabel('Score')\n",
    "plt.legend()\n",
    "plt.grid(True)\n",
    "plt.show()"
   ]
  },
  {
   "cell_type": "markdown",
   "id": "8105fbf3-ecd3-4160-8794-238ec7a293f0",
   "metadata": {},
   "source": [
    "**Random Forest**"
   ]
  },
  {
   "cell_type": "code",
   "execution_count": 34,
   "id": "58a24f89-a3e0-4a91-8599-fcd8b2bdcff5",
   "metadata": {},
   "outputs": [],
   "source": [
    "def calcu3(i):\n",
    "    model = RandomForestClassifier(n_estimators=i, max_depth=i, random_state=42)\n",
    "    model.fit(X_train, y_train)\n",
    "    y_pred = model.predict(X_test)\n",
    "    \n",
    "    accuracy = accuracy_score(y_test, y_pred)\n",
    "    precision = precision_score(y_test, y_pred,zero_division=1)\n",
    "    recall = recall_score(y_test, y_pred)\n",
    "    \n",
    "    results.append({\n",
    "        'hyperparameters': i,\n",
    "        'accuracy': accuracy,\n",
    "        'precision': precision,\n",
    "        'recall': recall,\n",
    "        'y_pred': y_pred \n",
    "    })"
   ]
  },
  {
   "cell_type": "code",
   "execution_count": 35,
   "id": "85b68808-83dc-4371-8ec9-9273285bbb93",
   "metadata": {},
   "outputs": [
    {
     "name": "stdout",
     "output_type": "stream",
     "text": [
      "Random Forest:\n",
      "Best result at iteration = 70\n",
      "Accuracy: 0.828125\n",
      "Precision: 0.7636363636363637\n",
      "Recall: 0.6774193548387096\n",
      "Confusion Matrix:\n",
      " [[117  13]\n",
      " [ 20  42]]\n"
     ]
    }
   ],
   "source": [
    "warnings.filterwarnings(\"ignore\", category=ConvergenceWarning)\n",
    "results = []\n",
    "\n",
    "iter_values = [1,2,3,4,5,10,15,20,25,30,35,40,45,50,60,70,80,90,100,\n",
    "               150,200,250,300,350,400,500,600,700,800,900,1000]\n",
    "\n",
    "for j in iter_values:\n",
    "    calcu3(j)\n",
    "\n",
    "best_result = max(results, key=lambda x: x['accuracy'])\n",
    "print(\"Random Forest:\")\n",
    "print(f\"Best result at iteration = {best_result['hyperparameters']}\")\n",
    "print(\"Accuracy:\", best_result['accuracy'])\n",
    "print(\"Precision:\", best_result['precision'])\n",
    "print(\"Recall:\", best_result['recall'])\n",
    "print(\"Confusion Matrix:\\n\", confusion_matrix(y_test, best_result['y_pred']))"
   ]
  },
  {
   "cell_type": "code",
   "execution_count": 36,
   "id": "0c46950f-412e-4a74-bee7-9b14b718c498",
   "metadata": {},
   "outputs": [
    {
     "data": {
      "image/png": "[encoded data removed]",
      "text/plain": [
       "<Figure size 1200x600 with 1 Axes>"
      ]
     },
     "metadata": {},
     "output_type": "display_data"
    }
   ],
   "source": [
    "iterations = [r['hyperparameters'] for r in results]\n",
    "accuracies = [r['accuracy'] for r in results]\n",
    "precisions = [r['precision'] for r in results]\n",
    "recalls = [r['recall'] for r in results]\n",
    "\n",
    "plt.figure(figsize=(12, 6))\n",
    "plt.plot(iterations, accuracies, marker='o', label='Accuracy', color='b')\n",
    "plt.plot(iterations, precisions, marker='s', label='Precision', color='g')\n",
    "plt.plot(iterations, recalls, marker='^', label='Recall', color='r')\n",
    "plt.title('Evaluation Metrics vs Number of Iterations')\n",
    "plt.xlabel('Number of Iterations')\n",
    "plt.ylabel('Score')\n",
    "plt.legend()\n",
    "plt.grid(True)\n",
    "plt.show()"
   ]
  },
  {
   "cell_type": "markdown",
   "id": "8481636e-18bc-4703-b066-d792cee73147",
   "metadata": {},
   "source": [
    "**XGBoost**"
   ]
  },
  {
   "cell_type": "code",
   "execution_count": 37,
   "id": "c78b0df9-d1d7-419a-9986-2bb054bc81c4",
   "metadata": {},
   "outputs": [],
   "source": [
    "def calcu4(i):\n",
    "    model = XGBClassifier(n_estimators=i, max_depth = i, random_state=0, learning_rate = 0.15, subsample=0.60)\n",
    "    model.fit(X_train, y_train)\n",
    "    y_pred = model.predict(X_test)\n",
    "    \n",
    "    accuracy = accuracy_score(y_test, y_pred)\n",
    "    precision = precision_score(y_test, y_pred, zero_division=1)\n",
    "    recall = recall_score(y_test, y_pred)\n",
    "    \n",
    "    results.append({\n",
    "        'hyperparameters': i,\n",
    "        'accuracy': accuracy,\n",
    "        'precision': precision,\n",
    "        'recall': recall,\n",
    "        'y_pred': y_pred \n",
    "    })"
   ]
  },
  {
   "cell_type": "code",
   "execution_count": 38,
   "id": "7dbc3170-cd65-4225-92d9-c89db2960797",
   "metadata": {},
   "outputs": [
    {
     "name": "stdout",
     "output_type": "stream",
     "text": [
      "XGBoost:\n",
      "Best result at iteration = 40\n",
      "Accuracy: 0.8385416666666666\n",
      "Precision: 0.7719298245614035\n",
      "Recall: 0.7096774193548387\n",
      "Confusion Matrix:\n",
      " [[117  13]\n",
      " [ 18  44]]\n"
     ]
    }
   ],
   "source": [
    "warnings.filterwarnings(\"ignore\", category=ConvergenceWarning)\n",
    "results = []\n",
    "\n",
    "iter_values = [1,2,3,4,5,10,15,20,25,30,35,40,45,50,60,70,80,90,100,\n",
    "               150,200,250,300,350,400,500,600,700,800,900,1000]\n",
    "\n",
    "for j in iter_values:\n",
    "    calcu4(j)\n",
    "\n",
    "best_result = max(results, key=lambda x: x['accuracy'])\n",
    "print(\"XGBoost:\")\n",
    "print(f\"Best result at iteration = {best_result['hyperparameters']}\")\n",
    "print(\"Accuracy:\", best_result['accuracy'])\n",
    "print(\"Precision:\", best_result['precision'])\n",
    "print(\"Recall:\", best_result['recall'])\n",
    "print(\"Confusion Matrix:\\n\", confusion_matrix(y_test, best_result['y_pred']))"
   ]
  },
  {
   "cell_type": "code",
   "execution_count": 39,
   "id": "1bc31bde-70b3-4574-8f93-4e9f45340ed6",
   "metadata": {},
   "outputs": [
    {
     "data": {
      "image/png": "[encoded data removed]",
      "text/plain": [
       "<Figure size 1200x600 with 1 Axes>"
      ]
     },
     "metadata": {},
     "output_type": "display_data"
    }
   ],
   "source": [
    "iterations = [r['hyperparameters'] for r in results]\n",
    "accuracies = [r['accuracy'] for r in results]\n",
    "precisions = [r['precision'] for r in results]\n",
    "recalls = [r['recall'] for r in results]\n",
    "\n",
    "plt.figure(figsize=(12, 6))\n",
    "plt.plot(iterations, accuracies, marker='o', label='Accuracy', color='b')\n",
    "plt.plot(iterations, precisions, marker='s', label='Precision', color='g')\n",
    "plt.plot(iterations, recalls, marker='^', label='Recall', color='r')\n",
    "plt.title('Evaluation Metrics vs Number of Iterations')\n",
    "plt.xlabel('Number of Iterations')\n",
    "plt.ylabel('Score')\n",
    "plt.legend()\n",
    "plt.grid(True)\n",
    "plt.show()"
   ]
  },
  {
   "cell_type": "markdown",
   "id": "0e9fb118-d20b-48ac-a81f-7dde0aadc0ad",
   "metadata": {},
   "source": [
    "# Support Vector Machines"
   ]
  },
  {
   "cell_type": "code",
   "execution_count": 40,
   "id": "ec2a4f35-dbbf-440d-8ceb-638ad77b60a6",
   "metadata": {},
   "outputs": [
    {
     "name": "stdout",
     "output_type": "stream",
     "text": [
      "Model score with default hyperparameters:\n",
      " \n",
      "Accuracy: 0.7760416666666666\n",
      "Precision: 0.7111111111111111\n",
      "Recall: 0.5161290322580645\n",
      "F1 Score: 0.5981308411214953\n",
      "Confusion Matrix: \n",
      " [[117  13]\n",
      " [ 30  32]]\n"
     ]
    }
   ],
   "source": [
    "svc = SVC()\n",
    "svc.fit(X_train,y_train)\n",
    "ypredict = svc.predict(X_test)\n",
    "print('Model score with default hyperparameters:\\n ')\n",
    "print(\"Accuracy:\", accuracy_score(y_test, ypredict))\n",
    "print(\"Precision:\", precision_score(y_test, ypredict))\n",
    "print(\"Recall:\", recall_score(y_test, ypredict))\n",
    "print(\"F1 Score:\", f1_score(y_test, ypredict))\n",
    "print(\"Confusion Matrix: \\n\", confusion_matrix(y_test, ypredict))"
   ]
  },
  {
   "cell_type": "markdown",
   "id": "747f9c66-6ea5-4e74-b71e-d7f4137afdb5",
   "metadata": {},
   "source": [
    "**Using Linear Kernel Method**"
   ]
  },
  {
   "cell_type": "code",
   "execution_count": 41,
   "id": "1d2cd06f-8d53-41aa-998a-c90530470b9a",
   "metadata": {},
   "outputs": [
    {
     "name": "stdout",
     "output_type": "stream",
     "text": [
      "Model score with Linear SVM method :\n",
      " \n",
      "Accuracy: 0.8072916666666666\n",
      "Precision: 0.7551020408163265\n",
      "Recall: 0.5967741935483871\n",
      "F1 Score: 0.6666666666666666\n",
      "Confusion Matrix: \n",
      " [[118  12]\n",
      " [ 25  37]]\n"
     ]
    }
   ],
   "source": [
    "linear_svc = SVC(kernel='linear', C=2.0) \n",
    "linear_svc.fit(X_train,y_train)\n",
    "ypredicti = linear_svc.predict(X_test)\n",
    "print('Model score with Linear SVM method :\\n ')\n",
    "print(\"Accuracy:\", accuracy_score(y_test, ypredicti))\n",
    "print(\"Precision:\", precision_score(y_test, ypredicti))\n",
    "print(\"Recall:\", recall_score(y_test, ypredicti))\n",
    "print(\"F1 Score:\", f1_score(y_test, ypredicti))\n",
    "print(\"Confusion Matrix: \\n\", confusion_matrix(y_test, ypredicti))"
   ]
  },
  {
   "cell_type": "code",
   "execution_count": 42,
   "id": "e72deeba-fc8d-4665-b721-649acb2d7963",
   "metadata": {},
   "outputs": [
    {
     "name": "stdout",
     "output_type": "stream",
     "text": [
      "Training set score: 0.7639\n",
      "Test set score: 0.8073\n"
     ]
    }
   ],
   "source": [
    "print('Training set score: {:.4f}'.format(linear_svc.score(X_train, y_train))) #Checking for Overfitting or Underfitting\n",
    "print('Test set score: {:.4f}'.format(linear_svc.score(X_test, y_test)))"
   ]
  },
  {
   "cell_type": "markdown",
   "id": "18eb87fd-e413-46ef-bcb6-b94caa79d2fd",
   "metadata": {},
   "source": [
    "Both are quite Comparable so no problem"
   ]
  },
  {
   "cell_type": "markdown",
   "id": "f4801c3f-47b6-47f7-a081-1fd035d81896",
   "metadata": {},
   "source": [
    "**Using Polynomial Kernel Method**"
   ]
  },
  {
   "cell_type": "code",
   "execution_count": 43,
   "id": "41ece795-d27c-4180-960e-10a7b797c2ac",
   "metadata": {},
   "outputs": [
    {
     "name": "stdout",
     "output_type": "stream",
     "text": [
      "Model score with Polynomial SVM method :\n",
      " \n",
      "Accuracy: 0.7604166666666666\n",
      "Precision: 0.6904761904761905\n",
      "Recall: 0.46774193548387094\n",
      "F1 Score: 0.5576923076923077\n",
      "Confusion Matrix: \n",
      " [[117  13]\n",
      " [ 33  29]]\n"
     ]
    }
   ],
   "source": [
    "svc = SVC(kernel='poly',C=15,coef0=0.001)\n",
    "svc.fit(X_train,y_train)\n",
    "ypredict = svc.predict(X_test)\n",
    "print('Model score with Polynomial SVM method :\\n ')\n",
    "print(\"Accuracy:\", accuracy_score(y_test, ypredict))\n",
    "print(\"Precision:\", precision_score(y_test, ypredict))\n",
    "print(\"Recall:\", recall_score(y_test, ypredict))\n",
    "print(\"F1 Score:\", f1_score(y_test, ypredict))\n",
    "print(\"Confusion Matrix: \\n\", confusion_matrix(y_test, ypredict))"
   ]
  },
  {
   "cell_type": "code",
   "execution_count": 44,
   "id": "431ee1fa-55a0-45d9-b170-47079f61772c",
   "metadata": {},
   "outputs": [
    {
     "name": "stdout",
     "output_type": "stream",
     "text": [
      "Training set score: 0.8524\n",
      "Test set score: 0.7604\n"
     ]
    }
   ],
   "source": [
    "print('Training set score: {:.4f}'.format(svc.score(X_train, y_train))) #Checking for Overfitting or Underfitting\n",
    "print('Test set score: {:.4f}'.format(svc.score(X_test, y_test)))"
   ]
  },
  {
   "cell_type": "markdown",
   "id": "a94b1e8c-809c-40e9-8af8-9d58126071e5",
   "metadata": {},
   "source": [
    "Hence we get to know that the Polynomial Kernel method is overfitting the Data."
   ]
  }
 ],
 "metadata": {
  "kernelspec": {
   "display_name": "Python 3 (ipykernel)",
   "language": "python",
   "name": "python3"
  },
  "language_info": {
   "codemirror_mode": {
    "name": "ipython",
    "version": 3
   },
   "file_extension": ".py",
   "mimetype": "text/x-python",
   "name": "python",
   "nbconvert_exporter": "python",
   "pygments_lexer": "ipython3",
   "version": "3.12.6"
  }
 },
 "nbformat": 4,
 "nbformat_minor": 5
}
